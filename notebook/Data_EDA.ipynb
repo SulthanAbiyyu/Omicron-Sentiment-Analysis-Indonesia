{
 "cells": [
  {
   "cell_type": "code",
   "execution_count": 5,
   "metadata": {},
   "outputs": [],
   "source": [
    "import pandas   as pd"
   ]
  },
  {
   "cell_type": "code",
   "execution_count": 6,
   "metadata": {},
   "outputs": [
    {
     "data": {
      "text/html": [
       "<div>\n",
       "<style scoped>\n",
       "    .dataframe tbody tr th:only-of-type {\n",
       "        vertical-align: middle;\n",
       "    }\n",
       "\n",
       "    .dataframe tbody tr th {\n",
       "        vertical-align: top;\n",
       "    }\n",
       "\n",
       "    .dataframe thead th {\n",
       "        text-align: right;\n",
       "    }\n",
       "</style>\n",
       "<table border=\"1\" class=\"dataframe\">\n",
       "  <thead>\n",
       "    <tr style=\"text-align: right;\">\n",
       "      <th></th>\n",
       "      <th>text</th>\n",
       "      <th>text_cleaned</th>\n",
       "      <th>text_removal</th>\n",
       "      <th>text_normalized</th>\n",
       "      <th>text_manual_replaced</th>\n",
       "      <th>text_without_stopword</th>\n",
       "      <th>label</th>\n",
       "    </tr>\n",
       "  </thead>\n",
       "  <tbody>\n",
       "    <tr>\n",
       "      <th>0</th>\n",
       "      <td>Sibuk liburan luar negeri, pulang2 bawa omicro...</td>\n",
       "      <td>sibuk liburan luar negeri pulang bawa omicron ...</td>\n",
       "      <td>sibuk libur negeri pulang bawa omicron ppkm in...</td>\n",
       "      <td>sibuk libur negeri pulang bawa omicron ppkm in...</td>\n",
       "      <td>sibuk libur negeri pulang bawa omicron ppkm in...</td>\n",
       "      <td>sibuk libur negeri pulang bawa omicron ppkm in...</td>\n",
       "      <td>3</td>\n",
       "    </tr>\n",
       "    <tr>\n",
       "      <th>1</th>\n",
       "      <td>Cegah Omicron, Wapres : tidak boleh ada diapen...</td>\n",
       "      <td>cegah omicron wapres tidak boleh ada diapensas...</td>\n",
       "      <td>cegah omicron wapres diapensasi karantina</td>\n",
       "      <td>cegah omicron wapres diapensasi karantina</td>\n",
       "      <td>cegah omicron wapres diapensasi karantina</td>\n",
       "      <td>cegah omicron wapres diapensasi karantina</td>\n",
       "      <td>2</td>\n",
       "    </tr>\n",
       "    <tr>\n",
       "      <th>2</th>\n",
       "      <td>Gk tau omicron, gua tau nya unicorn</td>\n",
       "      <td>gk tau omicron gua tau nya unicorn</td>\n",
       "      <td>gk tau omicron gua tau unicorn</td>\n",
       "      <td>enggak tahu omicron saya tahu unicorn</td>\n",
       "      <td>enggak tahu omicron aku tahu unicorn</td>\n",
       "      <td>tidak tahu omicron aku tahu unicorn</td>\n",
       "      <td>2</td>\n",
       "    </tr>\n",
       "    <tr>\n",
       "      <th>3</th>\n",
       "      <td>itukan tugas mereka, hampir semua artis itukan...</td>\n",
       "      <td>itukan tugas mereka hampir semua artis itukan ...</td>\n",
       "      <td>tugas artis influencer rezim jokowi varian del...</td>\n",
       "      <td>tugas artis influencer rezim jokowi varian del...</td>\n",
       "      <td>tugas artis influencer rezim jokowi varian del...</td>\n",
       "      <td>tugas artis influencer rezim jokowi varian del...</td>\n",
       "      <td>3</td>\n",
       "    </tr>\n",
       "    <tr>\n",
       "      <th>4</th>\n",
       "      <td>kalo gini mana bisa kuliah offline, orang omic...</td>\n",
       "      <td>kalo gini mana bisa kuliah offline orang omicr...</td>\n",
       "      <td>kalo gin kuliah offline omicron dah sampe indo</td>\n",
       "      <td>kalau gin kuliah offline omicron deh sampai in...</td>\n",
       "      <td>kalau gini kuliah offline omicron deh sampai i...</td>\n",
       "      <td>kalau begini kuliah offline omicron deh sampai...</td>\n",
       "      <td>2</td>\n",
       "    </tr>\n",
       "  </tbody>\n",
       "</table>\n",
       "</div>"
      ],
      "text/plain": [
       "                                                text  \\\n",
       "0  Sibuk liburan luar negeri, pulang2 bawa omicro...   \n",
       "1  Cegah Omicron, Wapres : tidak boleh ada diapen...   \n",
       "2                Gk tau omicron, gua tau nya unicorn   \n",
       "3  itukan tugas mereka, hampir semua artis itukan...   \n",
       "4  kalo gini mana bisa kuliah offline, orang omic...   \n",
       "\n",
       "                                        text_cleaned  \\\n",
       "0  sibuk liburan luar negeri pulang bawa omicron ...   \n",
       "1  cegah omicron wapres tidak boleh ada diapensas...   \n",
       "2                 gk tau omicron gua tau nya unicorn   \n",
       "3  itukan tugas mereka hampir semua artis itukan ...   \n",
       "4  kalo gini mana bisa kuliah offline orang omicr...   \n",
       "\n",
       "                                        text_removal  \\\n",
       "0  sibuk libur negeri pulang bawa omicron ppkm in...   \n",
       "1          cegah omicron wapres diapensasi karantina   \n",
       "2                     gk tau omicron gua tau unicorn   \n",
       "3  tugas artis influencer rezim jokowi varian del...   \n",
       "4     kalo gin kuliah offline omicron dah sampe indo   \n",
       "\n",
       "                                     text_normalized  \\\n",
       "0  sibuk libur negeri pulang bawa omicron ppkm in...   \n",
       "1          cegah omicron wapres diapensasi karantina   \n",
       "2              enggak tahu omicron saya tahu unicorn   \n",
       "3  tugas artis influencer rezim jokowi varian del...   \n",
       "4  kalau gin kuliah offline omicron deh sampai in...   \n",
       "\n",
       "                                text_manual_replaced  \\\n",
       "0  sibuk libur negeri pulang bawa omicron ppkm in...   \n",
       "1          cegah omicron wapres diapensasi karantina   \n",
       "2               enggak tahu omicron aku tahu unicorn   \n",
       "3  tugas artis influencer rezim jokowi varian del...   \n",
       "4  kalau gini kuliah offline omicron deh sampai i...   \n",
       "\n",
       "                               text_without_stopword  label  \n",
       "0  sibuk libur negeri pulang bawa omicron ppkm in...      3  \n",
       "1          cegah omicron wapres diapensasi karantina      2  \n",
       "2                tidak tahu omicron aku tahu unicorn      2  \n",
       "3  tugas artis influencer rezim jokowi varian del...      3  \n",
       "4  kalau begini kuliah offline omicron deh sampai...      2  "
      ]
     },
     "execution_count": 6,
     "metadata": {},
     "output_type": "execute_result"
    }
   ],
   "source": [
    "df = pd.read_csv('../data/3.preprocessed/tweet_preprocessed.csv')\n",
    "df.head()"
   ]
  },
  {
   "cell_type": "markdown",
   "metadata": {},
   "source": [
    "# Find NaN Values"
   ]
  },
  {
   "cell_type": "code",
   "execution_count": 7,
   "metadata": {},
   "outputs": [
    {
     "data": {
      "text/plain": [
       "text                     0\n",
       "text_cleaned             0\n",
       "text_removal             1\n",
       "text_normalized          1\n",
       "text_manual_replaced     1\n",
       "text_without_stopword    1\n",
       "label                    0\n",
       "dtype: int64"
      ]
     },
     "execution_count": 7,
     "metadata": {},
     "output_type": "execute_result"
    }
   ],
   "source": [
    "df.isnull().sum()"
   ]
  },
  {
   "cell_type": "code",
   "execution_count": 8,
   "metadata": {},
   "outputs": [
    {
     "data": {
      "text/plain": [
       "text                     0\n",
       "text_cleaned             0\n",
       "text_removal             0\n",
       "text_normalized          0\n",
       "text_manual_replaced     0\n",
       "text_without_stopword    0\n",
       "label                    0\n",
       "dtype: int64"
      ]
     },
     "execution_count": 8,
     "metadata": {},
     "output_type": "execute_result"
    }
   ],
   "source": [
    "df.dropna(inplace=True)\n",
    "df.isnull().sum()"
   ]
  },
  {
   "cell_type": "code",
   "execution_count": 9,
   "metadata": {},
   "outputs": [
    {
     "data": {
      "text/html": [
       "<div>\n",
       "<style scoped>\n",
       "    .dataframe tbody tr th:only-of-type {\n",
       "        vertical-align: middle;\n",
       "    }\n",
       "\n",
       "    .dataframe tbody tr th {\n",
       "        vertical-align: top;\n",
       "    }\n",
       "\n",
       "    .dataframe thead th {\n",
       "        text-align: right;\n",
       "    }\n",
       "</style>\n",
       "<table border=\"1\" class=\"dataframe\">\n",
       "  <thead>\n",
       "    <tr style=\"text-align: right;\">\n",
       "      <th></th>\n",
       "      <th>text</th>\n",
       "      <th>text_cleaned</th>\n",
       "      <th>text_removal</th>\n",
       "      <th>text_normalized</th>\n",
       "      <th>text_manual_replaced</th>\n",
       "      <th>text_without_stopword</th>\n",
       "      <th>label</th>\n",
       "    </tr>\n",
       "  </thead>\n",
       "  <tbody>\n",
       "    <tr>\n",
       "      <th>0</th>\n",
       "      <td>Sibuk liburan luar negeri, pulang2 bawa omicro...</td>\n",
       "      <td>sibuk liburan luar negeri pulang bawa omicron ...</td>\n",
       "      <td>sibuk libur negeri pulang bawa omicron ppkm in...</td>\n",
       "      <td>sibuk libur negeri pulang bawa omicron ppkm in...</td>\n",
       "      <td>sibuk libur negeri pulang bawa omicron ppkm in...</td>\n",
       "      <td>sibuk libur negeri pulang bawa omicron ppkm in...</td>\n",
       "      <td>0</td>\n",
       "    </tr>\n",
       "    <tr>\n",
       "      <th>1</th>\n",
       "      <td>Cegah Omicron, Wapres : tidak boleh ada diapen...</td>\n",
       "      <td>cegah omicron wapres tidak boleh ada diapensas...</td>\n",
       "      <td>cegah omicron wapres diapensasi karantina</td>\n",
       "      <td>cegah omicron wapres diapensasi karantina</td>\n",
       "      <td>cegah omicron wapres diapensasi karantina</td>\n",
       "      <td>cegah omicron wapres diapensasi karantina</td>\n",
       "      <td>1</td>\n",
       "    </tr>\n",
       "    <tr>\n",
       "      <th>2</th>\n",
       "      <td>Gk tau omicron, gua tau nya unicorn</td>\n",
       "      <td>gk tau omicron gua tau nya unicorn</td>\n",
       "      <td>gk tau omicron gua tau unicorn</td>\n",
       "      <td>enggak tahu omicron saya tahu unicorn</td>\n",
       "      <td>enggak tahu omicron aku tahu unicorn</td>\n",
       "      <td>tidak tahu omicron aku tahu unicorn</td>\n",
       "      <td>1</td>\n",
       "    </tr>\n",
       "    <tr>\n",
       "      <th>3</th>\n",
       "      <td>itukan tugas mereka, hampir semua artis itukan...</td>\n",
       "      <td>itukan tugas mereka hampir semua artis itukan ...</td>\n",
       "      <td>tugas artis influencer rezim jokowi varian del...</td>\n",
       "      <td>tugas artis influencer rezim jokowi varian del...</td>\n",
       "      <td>tugas artis influencer rezim jokowi varian del...</td>\n",
       "      <td>tugas artis influencer rezim jokowi varian del...</td>\n",
       "      <td>0</td>\n",
       "    </tr>\n",
       "    <tr>\n",
       "      <th>4</th>\n",
       "      <td>kalo gini mana bisa kuliah offline, orang omic...</td>\n",
       "      <td>kalo gini mana bisa kuliah offline orang omicr...</td>\n",
       "      <td>kalo gin kuliah offline omicron dah sampe indo</td>\n",
       "      <td>kalau gin kuliah offline omicron deh sampai in...</td>\n",
       "      <td>kalau gini kuliah offline omicron deh sampai i...</td>\n",
       "      <td>kalau begini kuliah offline omicron deh sampai...</td>\n",
       "      <td>1</td>\n",
       "    </tr>\n",
       "  </tbody>\n",
       "</table>\n",
       "</div>"
      ],
      "text/plain": [
       "                                                text  \\\n",
       "0  Sibuk liburan luar negeri, pulang2 bawa omicro...   \n",
       "1  Cegah Omicron, Wapres : tidak boleh ada diapen...   \n",
       "2                Gk tau omicron, gua tau nya unicorn   \n",
       "3  itukan tugas mereka, hampir semua artis itukan...   \n",
       "4  kalo gini mana bisa kuliah offline, orang omic...   \n",
       "\n",
       "                                        text_cleaned  \\\n",
       "0  sibuk liburan luar negeri pulang bawa omicron ...   \n",
       "1  cegah omicron wapres tidak boleh ada diapensas...   \n",
       "2                 gk tau omicron gua tau nya unicorn   \n",
       "3  itukan tugas mereka hampir semua artis itukan ...   \n",
       "4  kalo gini mana bisa kuliah offline orang omicr...   \n",
       "\n",
       "                                        text_removal  \\\n",
       "0  sibuk libur negeri pulang bawa omicron ppkm in...   \n",
       "1          cegah omicron wapres diapensasi karantina   \n",
       "2                     gk tau omicron gua tau unicorn   \n",
       "3  tugas artis influencer rezim jokowi varian del...   \n",
       "4     kalo gin kuliah offline omicron dah sampe indo   \n",
       "\n",
       "                                     text_normalized  \\\n",
       "0  sibuk libur negeri pulang bawa omicron ppkm in...   \n",
       "1          cegah omicron wapres diapensasi karantina   \n",
       "2              enggak tahu omicron saya tahu unicorn   \n",
       "3  tugas artis influencer rezim jokowi varian del...   \n",
       "4  kalau gin kuliah offline omicron deh sampai in...   \n",
       "\n",
       "                                text_manual_replaced  \\\n",
       "0  sibuk libur negeri pulang bawa omicron ppkm in...   \n",
       "1          cegah omicron wapres diapensasi karantina   \n",
       "2               enggak tahu omicron aku tahu unicorn   \n",
       "3  tugas artis influencer rezim jokowi varian del...   \n",
       "4  kalau gini kuliah offline omicron deh sampai i...   \n",
       "\n",
       "                               text_without_stopword  label  \n",
       "0  sibuk libur negeri pulang bawa omicron ppkm in...      0  \n",
       "1          cegah omicron wapres diapensasi karantina      1  \n",
       "2                tidak tahu omicron aku tahu unicorn      1  \n",
       "3  tugas artis influencer rezim jokowi varian del...      0  \n",
       "4  kalau begini kuliah offline omicron deh sampai...      1  "
      ]
     },
     "execution_count": 9,
     "metadata": {},
     "output_type": "execute_result"
    }
   ],
   "source": [
    "df['label'] = df['label'].replace(2, 1).replace(3, 0)\n",
    "df.head()"
   ]
  },
  {
   "cell_type": "code",
   "execution_count": 7,
   "metadata": {},
   "outputs": [],
   "source": [
    "df.to_csv('../data/3.preprocessed/tweet_preprocessed_noNaN.csv', index=False)"
   ]
  },
  {
   "cell_type": "markdown",
   "metadata": {},
   "source": [
    "# Analysis Data"
   ]
  },
  {
   "cell_type": "markdown",
   "metadata": {},
   "source": [
    "## Count Positive and Negative Tweets\n",
    "\n",
    "Bagian ini untuk menghitung jumlah tweet positif dan negatif menggunakan data yang sudah di preprocessing. df['label'] merupakan data yang berisi label tweet positif atau negatif. df[df['label'] == 1] merupakan data tweet positif. df[df['label'] == 0] merupakan data tweet negatif. Label Neutral dimasukkan ke dalam data positif karena tidak terdapat tweet yang berunsur negatif. Lalu jumlah tweet positif dan negatif ditampilkan."
   ]
  },
  {
   "cell_type": "code",
   "execution_count": 10,
   "metadata": {},
   "outputs": [
    {
     "data": {
      "text/plain": [
       "(668, 509)"
      ]
     },
     "execution_count": 10,
     "metadata": {},
     "output_type": "execute_result"
    }
   ],
   "source": [
    "df = pd.read_csv('../data/3.preprocessed/tweet_preprocessed_noNaN.csv')\n",
    "df[df['label'] == 1].shape[0], df[df['label'] == 0].shape[0]"
   ]
  },
  {
   "cell_type": "code",
   "execution_count": 11,
   "metadata": {},
   "outputs": [],
   "source": [
    "import matplotlib.pyplot    as plt\n",
    "import seaborn              as sns\n",
    "import numpy                as np"
   ]
  },
  {
   "cell_type": "code",
   "execution_count": 45,
   "metadata": {},
   "outputs": [
    {
     "data": {
      "text/plain": [
       "CountVectorizer(analyzer=<function tokenize at 0x000001DABE55DCA0>)"
      ]
     },
     "execution_count": 45,
     "metadata": {},
     "output_type": "execute_result"
    }
   ],
   "source": [
    "from sklearn.feature_extraction.text import CountVectorizer\n",
    "def tokenize(text):\n",
    "    return text.split()\n",
    "\n",
    "vectorizer = CountVectorizer(analyzer=tokenize)\n",
    "vectorizer"
   ]
  },
  {
   "cell_type": "code",
   "execution_count": 47,
   "metadata": {},
   "outputs": [
    {
     "data": {
      "text/plain": [
       "CountVectorizer(analyzer=<function tokenize at 0x000001DABE55DCA0>)"
      ]
     },
     "execution_count": 47,
     "metadata": {},
     "output_type": "execute_result"
    }
   ],
   "source": [
    "vectorizer.fit(df['text_without_stopword'])"
   ]
  },
  {
   "cell_type": "code",
   "execution_count": 48,
   "metadata": {},
   "outputs": [
    {
     "data": {
      "text/plain": [
       "((1177, 2881),\n",
       " array([[0, 0, 0, ..., 0, 0, 0],\n",
       "        [0, 0, 0, ..., 0, 0, 0],\n",
       "        [0, 0, 0, ..., 0, 0, 0],\n",
       "        ...,\n",
       "        [0, 0, 0, ..., 0, 0, 0],\n",
       "        [0, 0, 0, ..., 0, 0, 0],\n",
       "        [0, 0, 0, ..., 0, 0, 0]], dtype=int64))"
      ]
     },
     "execution_count": 48,
     "metadata": {},
     "output_type": "execute_result"
    }
   ],
   "source": [
    "X = vectorizer.transform(df['text_without_stopword'])\n",
    "X.shape, X.toarray()"
   ]
  },
  {
   "cell_type": "code",
   "execution_count": 56,
   "metadata": {},
   "outputs": [
    {
     "data": {
      "text/plain": [
       "((array([   0,    0,    0, ..., 1176, 1176, 1176], dtype=int64),\n",
       "  array([ 283, 1047, 1471, ..., 1725, 1907, 1911], dtype=int64)),\n",
       " 0)"
      ]
     },
     "execution_count": 56,
     "metadata": {},
     "output_type": "execute_result"
    }
   ],
   "source": [
    "1 in X.toarray()\n",
    "# Locate index of 1 in X.toarray()\n",
    "np.where(X.toarray() == 1)"
   ]
  },
  {
   "cell_type": "code",
   "execution_count": 52,
   "metadata": {},
   "outputs": [
    {
     "data": {
      "text/plain": [
       "502"
      ]
     },
     "execution_count": 52,
     "metadata": {},
     "output_type": "execute_result"
    }
   ],
   "source": [
    "love_index = vectorizer.vocabulary_['cinta']\n",
    "love_index"
   ]
  },
  {
   "cell_type": "code",
   "execution_count": 27,
   "metadata": {},
   "outputs": [
    {
     "name": "stdout",
     "output_type": "stream",
     "text": [
      "cinta\n"
     ]
    }
   ],
   "source": [
    "print(vectorizer.get_feature_names()[love_index])"
   ]
  },
  {
   "cell_type": "code",
   "execution_count": 28,
   "metadata": {},
   "outputs": [
    {
     "name": "stdout",
     "output_type": "stream",
     "text": [
      "1\n"
     ]
    }
   ],
   "source": [
    "print(df['label'][love_index])"
   ]
  },
  {
   "cell_type": "code",
   "execution_count": 42,
   "metadata": {},
   "outputs": [
    {
     "name": "stdout",
     "output_type": "stream",
     "text": [
      "['aakkk', 'abai', 'about', 'abu', 'acan', 'acara', 'account', 'aco', 'actually', 'acuh', 'ada', 'adab', 'adalah', 'adek', 'adekku', 'adeknya', 'adem', 'adhanom', 'adik', 'adil', 'adillllll', 'adp', 'adsense', 'adu', 'aduh', 'afrika', 'agama', 'agen', 'agustus', 'ah', 'ahelah', 'aher', 'ahli', 'ahmad', 'ai', 'air', 'ajaib', 'ajak', 'ajar', 'ajelah', 'ajg', 'ajinomoto', 'akal', 'akan', 'akibat', 'akses', 'aktif', 'aktifitas', 'aku', 'akuntansi']\n"
     ]
    },
    {
     "name": "stderr",
     "output_type": "stream",
     "text": [
      "C:\\Users\\alike\\AppData\\Local\\Programs\\Python\\Python39\\lib\\site-packages\\sklearn\\utils\\deprecation.py:87: FutureWarning: Function get_feature_names is deprecated; get_feature_names is deprecated in 1.0 and will be removed in 1.2. Please use get_feature_names_out instead.\n",
      "  warnings.warn(msg, category=FutureWarning)\n"
     ]
    }
   ],
   "source": [
    "print(vectorizer.get_feature_names()[:50])"
   ]
  },
  {
   "cell_type": "code",
   "execution_count": 44,
   "metadata": {},
   "outputs": [
    {
     "name": "stdout",
     "output_type": "stream",
     "text": [
      "1\n"
     ]
    }
   ],
   "source": [
    "index_word = vectorizer.vocabulary_['ajg']\n",
    "print(df['label'][index_word])"
   ]
  },
  {
   "cell_type": "code",
   "execution_count": null,
   "metadata": {},
   "outputs": [],
   "source": []
  }
 ],
 "metadata": {
  "interpreter": {
   "hash": "d0d51e18e8a4e0ee8795b8f094108eb0ecd2a880ce57a0f757bd5a4668070013"
  },
  "kernelspec": {
   "display_name": "Python 3.9.2 64-bit",
   "language": "python",
   "name": "python3"
  },
  "language_info": {
   "codemirror_mode": {
    "name": "ipython",
    "version": 3
   },
   "file_extension": ".py",
   "mimetype": "text/x-python",
   "name": "python",
   "nbconvert_exporter": "python",
   "pygments_lexer": "ipython3",
   "version": "3.9.2"
  },
  "orig_nbformat": 4
 },
 "nbformat": 4,
 "nbformat_minor": 2
}
