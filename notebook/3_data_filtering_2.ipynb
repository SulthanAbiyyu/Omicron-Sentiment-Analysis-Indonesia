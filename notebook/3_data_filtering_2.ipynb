{
 "cells": [
  {
   "cell_type": "code",
   "execution_count": 1,
   "metadata": {},
   "outputs": [],
   "source": [
    "import pandas as pd"
   ]
  },
  {
   "cell_type": "code",
   "execution_count": 2,
   "metadata": {},
   "outputs": [
    {
     "data": {
      "text/plain": [
       "((1025, 8), (1006, 8))"
      ]
     },
     "execution_count": 2,
     "metadata": {},
     "output_type": "execute_result"
    }
   ],
   "source": [
    "df_1 = pd.read_csv('../data/2.filtered_annotated/tweet_annotated_1000.csv')\n",
    "df_2 = pd.read_csv('../data/2.filtered_annotated/tweet_5000_annotated.csv')\n",
    "\n",
    "df_1.shape, df_2.shape"
   ]
  },
  {
   "cell_type": "code",
   "execution_count": 9,
   "metadata": {},
   "outputs": [
    {
     "data": {
      "text/html": [
       "<div>\n",
       "<style scoped>\n",
       "    .dataframe tbody tr th:only-of-type {\n",
       "        vertical-align: middle;\n",
       "    }\n",
       "\n",
       "    .dataframe tbody tr th {\n",
       "        vertical-align: top;\n",
       "    }\n",
       "\n",
       "    .dataframe thead th {\n",
       "        text-align: right;\n",
       "    }\n",
       "</style>\n",
       "<table border=\"1\" class=\"dataframe\">\n",
       "  <thead>\n",
       "    <tr style=\"text-align: right;\">\n",
       "      <th></th>\n",
       "      <th>annotation_approver</th>\n",
       "      <th>comment_count</th>\n",
       "      <th>created_at</th>\n",
       "      <th>id</th>\n",
       "      <th>label</th>\n",
       "      <th>text</th>\n",
       "      <th>updated_at</th>\n",
       "      <th>user</th>\n",
       "    </tr>\n",
       "  </thead>\n",
       "  <tbody>\n",
       "    <tr>\n",
       "      <th>2026</th>\n",
       "      <td>NaN</td>\n",
       "      <td>0</td>\n",
       "      <td>2022-01-11T11:58:00.843194Z</td>\n",
       "      <td>1005</td>\n",
       "      <td>4</td>\n",
       "      <td>@inderasakti_kl @AkimZone To all the antivax p...</td>\n",
       "      <td>2022-01-11T11:58:00.843194Z</td>\n",
       "      <td>1</td>\n",
       "    </tr>\n",
       "    <tr>\n",
       "      <th>2027</th>\n",
       "      <td>NaN</td>\n",
       "      <td>0</td>\n",
       "      <td>2022-01-11T11:58:01.635976Z</td>\n",
       "      <td>1006</td>\n",
       "      <td>4</td>\n",
       "      <td>PPLN Disiplin Karantina Waspada Kasus Omicron ...</td>\n",
       "      <td>2022-01-11T11:58:01.635976Z</td>\n",
       "      <td>1</td>\n",
       "    </tr>\n",
       "    <tr>\n",
       "      <th>2028</th>\n",
       "      <td>NaN</td>\n",
       "      <td>0</td>\n",
       "      <td>2022-01-11T11:58:02.578306Z</td>\n",
       "      <td>1007</td>\n",
       "      <td>4</td>\n",
       "      <td>Sikapi Penyebaran Varian #Omicron, Pemerintah ...</td>\n",
       "      <td>2022-01-11T11:58:02.578306Z</td>\n",
       "      <td>1</td>\n",
       "    </tr>\n",
       "    <tr>\n",
       "      <th>2029</th>\n",
       "      <td>NaN</td>\n",
       "      <td>0</td>\n",
       "      <td>2022-01-11T11:58:03.808274Z</td>\n",
       "      <td>1008</td>\n",
       "      <td>4</td>\n",
       "      <td>@nd_mariee Da gua Omicron?</td>\n",
       "      <td>2022-01-11T11:58:03.808274Z</td>\n",
       "      <td>1</td>\n",
       "    </tr>\n",
       "    <tr>\n",
       "      <th>2030</th>\n",
       "      <td>NaN</td>\n",
       "      <td>0</td>\n",
       "      <td>2022-01-11T11:58:05.515427Z</td>\n",
       "      <td>1009</td>\n",
       "      <td>4</td>\n",
       "      <td>@sayyidhassmoro Dah vaksin pastu jangkit omicr...</td>\n",
       "      <td>2022-01-11T11:58:05.515427Z</td>\n",
       "      <td>1</td>\n",
       "    </tr>\n",
       "  </tbody>\n",
       "</table>\n",
       "</div>"
      ],
      "text/plain": [
       "      annotation_approver  comment_count                   created_at    id  \\\n",
       "2026                  NaN              0  2022-01-11T11:58:00.843194Z  1005   \n",
       "2027                  NaN              0  2022-01-11T11:58:01.635976Z  1006   \n",
       "2028                  NaN              0  2022-01-11T11:58:02.578306Z  1007   \n",
       "2029                  NaN              0  2022-01-11T11:58:03.808274Z  1008   \n",
       "2030                  NaN              0  2022-01-11T11:58:05.515427Z  1009   \n",
       "\n",
       "      label                                               text  \\\n",
       "2026      4  @inderasakti_kl @AkimZone To all the antivax p...   \n",
       "2027      4  PPLN Disiplin Karantina Waspada Kasus Omicron ...   \n",
       "2028      4  Sikapi Penyebaran Varian #Omicron, Pemerintah ...   \n",
       "2029      4                         @nd_mariee Da gua Omicron?   \n",
       "2030      4  @sayyidhassmoro Dah vaksin pastu jangkit omicr...   \n",
       "\n",
       "                       updated_at  user  \n",
       "2026  2022-01-11T11:58:00.843194Z     1  \n",
       "2027  2022-01-11T11:58:01.635976Z     1  \n",
       "2028  2022-01-11T11:58:02.578306Z     1  \n",
       "2029  2022-01-11T11:58:03.808274Z     1  \n",
       "2030  2022-01-11T11:58:05.515427Z     1  "
      ]
     },
     "execution_count": 9,
     "metadata": {},
     "output_type": "execute_result"
    }
   ],
   "source": [
    "# Pandas merge 2 dataframe\n",
    "df_merged = pd.concat([df_1, df_2], ignore_index=True)\n",
    "df_merged.tail()"
   ]
  },
  {
   "cell_type": "code",
   "execution_count": 13,
   "metadata": {},
   "outputs": [
    {
     "data": {
      "text/html": [
       "<div>\n",
       "<style scoped>\n",
       "    .dataframe tbody tr th:only-of-type {\n",
       "        vertical-align: middle;\n",
       "    }\n",
       "\n",
       "    .dataframe tbody tr th {\n",
       "        vertical-align: top;\n",
       "    }\n",
       "\n",
       "    .dataframe thead th {\n",
       "        text-align: right;\n",
       "    }\n",
       "</style>\n",
       "<table border=\"1\" class=\"dataframe\">\n",
       "  <thead>\n",
       "    <tr style=\"text-align: right;\">\n",
       "      <th></th>\n",
       "      <th>text</th>\n",
       "      <th>label</th>\n",
       "    </tr>\n",
       "  </thead>\n",
       "  <tbody>\n",
       "    <tr>\n",
       "      <th>0</th>\n",
       "      <td>Sibuk liburan luar negeri, pulang2 bawa omicro...</td>\n",
       "      <td>3</td>\n",
       "    </tr>\n",
       "    <tr>\n",
       "      <th>1</th>\n",
       "      <td>Cegah Omicron, Wapres : tidak boleh ada diapen...</td>\n",
       "      <td>2</td>\n",
       "    </tr>\n",
       "    <tr>\n",
       "      <th>2</th>\n",
       "      <td>@CNNIndonesia Gk tau omicron, gua tau nya unicorn</td>\n",
       "      <td>2</td>\n",
       "    </tr>\n",
       "    <tr>\n",
       "      <th>3</th>\n",
       "      <td>@cybsquad_ itukan tugas mereka, hampir semua a...</td>\n",
       "      <td>3</td>\n",
       "    </tr>\n",
       "    <tr>\n",
       "      <th>4</th>\n",
       "      <td>kalo gini mana bisa kuliah offline, orang omic...</td>\n",
       "      <td>2</td>\n",
       "    </tr>\n",
       "  </tbody>\n",
       "</table>\n",
       "</div>"
      ],
      "text/plain": [
       "                                                text  label\n",
       "0  Sibuk liburan luar negeri, pulang2 bawa omicro...      3\n",
       "1  Cegah Omicron, Wapres : tidak boleh ada diapen...      2\n",
       "2  @CNNIndonesia Gk tau omicron, gua tau nya unicorn      2\n",
       "3  @cybsquad_ itukan tugas mereka, hampir semua a...      3\n",
       "4  kalo gini mana bisa kuliah offline, orang omic...      2"
      ]
     },
     "execution_count": 13,
     "metadata": {},
     "output_type": "execute_result"
    }
   ],
   "source": [
    "df_merged_labeltext = df_merged[[\"text\", \"label\"]]\n",
    "df_merged_labeltext.head()"
   ]
  },
  {
   "cell_type": "markdown",
   "metadata": {},
   "source": [
    "# Label\n",
    "1 = Positive\n",
    "2 = Neutral\n",
    "3 = Negative\n",
    "4 = Irrelevant"
   ]
  },
  {
   "cell_type": "code",
   "execution_count": 14,
   "metadata": {},
   "outputs": [
    {
     "data": {
      "text/plain": [
       "(1178, 2)"
      ]
     },
     "execution_count": 14,
     "metadata": {},
     "output_type": "execute_result"
    }
   ],
   "source": [
    "# Drop label with value 4\n",
    "df_merged_labeltext = df_merged_labeltext[df_merged_labeltext[\"label\"] != 4]\n",
    "df_merged_labeltext.shape"
   ]
  },
  {
   "cell_type": "code",
   "execution_count": 15,
   "metadata": {},
   "outputs": [],
   "source": [
    "df_merged_labeltext.to_csv('../data/2.filtered_annotated/tweet_annotated_fix.csv', index=False)"
   ]
  }
 ],
 "metadata": {
  "interpreter": {
   "hash": "2358c7718a06ce74613d3ca23af7963e3dc3a98263e194a13e6cf112cb830610"
  },
  "kernelspec": {
   "display_name": "Python 3.9.6 64-bit ('DataScience': conda)",
   "language": "python",
   "name": "python3"
  },
  "language_info": {
   "codemirror_mode": {
    "name": "ipython",
    "version": 3
   },
   "file_extension": ".py",
   "mimetype": "text/x-python",
   "name": "python",
   "nbconvert_exporter": "python",
   "pygments_lexer": "ipython3",
   "version": "3.9.6"
  },
  "orig_nbformat": 4
 },
 "nbformat": 4,
 "nbformat_minor": 2
}
