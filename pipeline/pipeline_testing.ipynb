{
 "cells": [
  {
   "cell_type": "code",
   "execution_count": 2,
   "metadata": {},
   "outputs": [],
   "source": [
    "from ModelPipeline import ModelPipeline\n",
    "\n",
    "MODEL_PATH = \"../model/omicron-sentiment-analysis-indo.h5\"\n",
    "TOKENIZER_PATH = \"../model/tokenizer_without_stopwords.pkl\"\n",
    "MAX_LENGTH = 35\n",
    "\n",
    "mp = ModelPipeline(MODEL_PATH, TOKENIZER_PATH, MAX_LENGTH)"
   ]
  },
  {
   "cell_type": "code",
   "execution_count": 3,
   "metadata": {},
   "outputs": [
    {
     "name": "stdout",
     "output_type": "stream",
     "text": [
      "Neutral\n"
     ]
    }
   ],
   "source": [
    "prediction = mp.predict(\"Mending makan nasi goreng\")\n",
    "\n",
    "if prediction == 1:\n",
    "    print(\"Positive\")\n",
    "elif prediction == 2:\n",
    "    print(\"Neutral\")\n",
    "else:\n",
    "    print(\"Negative\")"
   ]
  }
 ],
 "metadata": {
  "interpreter": {
   "hash": "2358c7718a06ce74613d3ca23af7963e3dc3a98263e194a13e6cf112cb830610"
  },
  "kernelspec": {
   "display_name": "Python 3.9.6 64-bit ('DataScience': conda)",
   "language": "python",
   "name": "python3"
  },
  "language_info": {
   "codemirror_mode": {
    "name": "ipython",
    "version": 3
   },
   "file_extension": ".py",
   "mimetype": "text/x-python",
   "name": "python",
   "nbconvert_exporter": "python",
   "pygments_lexer": "ipython3",
   "version": "3.9.6"
  },
  "orig_nbformat": 4
 },
 "nbformat": 4,
 "nbformat_minor": 2
}
